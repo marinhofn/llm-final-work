{
 "cells": [
  {
   "cell_type": "code",
   "execution_count": 9,
   "metadata": {},
   "outputs": [],
   "source": [
    "!pip install --upgrade pip --quiet\n",
    "!pip install --upgrade openai --quiet\n",
    "!pip install python-dotenv --quiet\n",
    "!pip install flask_cors --quiet"
   ]
  },
  {
   "cell_type": "code",
   "execution_count": null,
   "metadata": {},
   "outputs": [],
   "source": [
    "import openai\n",
    "import os\n",
    "from flask import Flask, request, jsonify\n",
    "from flask_cors import CORS\n",
    "\n",
    "from dotenv import load_dotenv, find_dotenv\n",
    "_ = load_dotenv(find_dotenv())  # read local .env file\n",
    "\n"
   ]
  },
  {
   "cell_type": "code",
   "execution_count": 11,
   "metadata": {},
   "outputs": [],
   "source": [
    "def get_completion_from_messages(messages, model=\"gpt-3.5-turbo\", temperature=0):\n",
    "    response = openai.ChatCompletion.create(\n",
    "        model=model,\n",
    "        messages=messages,\n",
    "        temperature=temperature, # this is the degree of randomness of the model's output\n",
    "    )\n",
    "    print(str(response.choices[0].message))\n",
    "    return response.choices[0].message[\"content\"]"
   ]
  },
  {
   "cell_type": "code",
   "execution_count": 12,
   "metadata": {},
   "outputs": [
    {
     "name": "stdout",
     "output_type": "stream",
     "text": [
      " * Serving Flask app '__main__'\n",
      " * Debug mode: off\n"
     ]
    },
    {
     "name": "stderr",
     "output_type": "stream",
     "text": [
      "WARNING: This is a development server. Do not use it in a production deployment. Use a production WSGI server instead.\n",
      " * Running on http://127.0.0.1:5000\n",
      "Press CTRL+C to quit\n",
      "127.0.0.1 - - [31/Oct/2023 19:49:18] \"OPTIONS /get_response HTTP/1.1\" 200 -\n",
      "127.0.0.1 - - [31/Oct/2023 19:49:46] \"POST /get_response HTTP/1.1\" 200 -\n"
     ]
    },
    {
     "name": "stdout",
     "output_type": "stream",
     "text": [
      "{\n",
      "  \"role\": \"assistant\",\n",
      "  \"content\": \"No Brasil, a legisla\\u00e7\\u00e3o trabalhista prev\\u00ea prote\\u00e7\\u00e3o especial para a gestante, garantindo estabilidade no emprego durante a gravidez e at\\u00e9 cinco meses ap\\u00f3s o parto. Portanto, \\u00e9 proibida a demiss\\u00e3o da mulher gr\\u00e1vida nesse per\\u00edodo, exceto em casos de justa causa, como por exemplo, comprova\\u00e7\\u00e3o de abandono de emprego, conduta inadequada ou pr\\u00e1tica de crime.\\n\\nA prote\\u00e7\\u00e3o \\u00e0 gestante est\\u00e1 prevista na Constitui\\u00e7\\u00e3o Federal (artigo 7\\u00ba, inciso XVIII), na Consolida\\u00e7\\u00e3o das Leis do Trabalho (CLT - artigo 391) e na Lei n\\u00ba 9.029/95. Al\\u00e9m disso, a Lei n\\u00ba 13.467/2017 (Reforma Trabalhista) tamb\\u00e9m refor\\u00e7a a proibi\\u00e7\\u00e3o da dispensa arbitr\\u00e1ria ou sem justa causa da empregada gestante.\\n\\nCaso voc\\u00ea esteja enfrentando uma situa\\u00e7\\u00e3o de demiss\\u00e3o durante a gravidez, \\u00e9 aconselh\\u00e1vel buscar imediatamente um advogado especializado em direito trabalhista para avaliar o caso e tomar as medidas legais cab\\u00edveis, como a\\u00e7\\u00e3o de reintegra\\u00e7\\u00e3o ao emprego ou indeniza\\u00e7\\u00e3o por danos morais e materiais. O advogado poder\\u00e1 analisar detalhadamente a situa\\u00e7\\u00e3o e orient\\u00e1-la de acordo com a legisla\\u00e7\\u00e3o vigente e jurisprud\\u00eancia atual.\"\n",
      "}\n"
     ]
    },
    {
     "name": "stderr",
     "output_type": "stream",
     "text": [
      "127.0.0.1 - - [31/Oct/2023 19:51:16] \"OPTIONS /get_response HTTP/1.1\" 200 -\n"
     ]
    },
    {
     "name": "stdout",
     "output_type": "stream",
     "text": [
      "{\n",
      "  \"role\": \"assistant\",\n",
      "  \"content\": \"No Brasil, a Constitui\\u00e7\\u00e3o Federal e a Consolida\\u00e7\\u00e3o das Leis do Trabalho (CLT) garantem a estabilidade no emprego para a gestante. De acordo com a legisla\\u00e7\\u00e3o, a mulher n\\u00e3o pode ser demitida desde a confirma\\u00e7\\u00e3o da gravidez at\\u00e9 cinco meses ap\\u00f3s o parto. Essa prote\\u00e7\\u00e3o \\u00e9 assegurada independentemente do tipo de contrato de trabalho, seja ele por prazo determinado ou indeterminado.\\n\\nCaso voc\\u00ea esteja gr\\u00e1vida de cinco meses ou menos, voc\\u00ea est\\u00e1 protegida contra a demiss\\u00e3o. No entanto, \\u00e9 importante ressaltar que, em casos de demiss\\u00e3o sem justa causa, a empresa pode ser obrigada a pagar uma indeniza\\u00e7\\u00e3o correspondente aos sal\\u00e1rios e demais direitos que voc\\u00ea teria recebido at\\u00e9 o t\\u00e9rmino da estabilidade.\\n\\nSe voc\\u00ea estiver enfrentando algum problema relacionado \\u00e0 sua gravidez e ao seu emprego, \\u00e9 aconselh\\u00e1vel buscar orienta\\u00e7\\u00e3o jur\\u00eddica de um advogado especializado em direito trabalhista. Ele poder\\u00e1 analisar o seu caso espec\\u00edfico e orient\\u00e1-la sobre os seus direitos e as medidas legais a serem tomadas.\"\n",
      "}\n"
     ]
    },
    {
     "name": "stderr",
     "output_type": "stream",
     "text": [
      "127.0.0.1 - - [31/Oct/2023 19:52:04] \"POST /get_response HTTP/1.1\" 200 -\n"
     ]
    },
    {
     "name": "stdout",
     "output_type": "stream",
     "text": [
      "{\n",
      "  \"role\": \"assistant\",\n",
      "  \"content\": \"No Brasil, a Constitui\\u00e7\\u00e3o Federal e a Consolida\\u00e7\\u00e3o das Leis do Trabalho (CLT) garantem a estabilidade no emprego para a gestante. De acordo com a legisla\\u00e7\\u00e3o, a mulher n\\u00e3o pode ser demitida desde a confirma\\u00e7\\u00e3o da gravidez at\\u00e9 cinco meses ap\\u00f3s o parto. Essa prote\\u00e7\\u00e3o \\u00e9 assegurada independentemente do tipo de contrato de trabalho, seja ele por prazo determinado ou indeterminado.\\n\\nCaso voc\\u00ea esteja gr\\u00e1vida de cinco meses ou menos, voc\\u00ea est\\u00e1 protegida contra a demiss\\u00e3o. No entanto, \\u00e9 importante ressaltar que, em alguns casos, a demiss\\u00e3o pode ocorrer por justa causa, desde que comprovada a falta grave da empregada gestante.\\n\\nSe voc\\u00ea estiver enfrentando algum problema relacionado \\u00e0 sua gravidez e ao seu emprego, \\u00e9 aconselh\\u00e1vel buscar orienta\\u00e7\\u00e3o jur\\u00eddica de um advogado especializado em direito trabalhista. Ele poder\\u00e1 analisar o seu caso espec\\u00edfico e fornecer orienta\\u00e7\\u00f5es adequadas \\u00e0s suas circunst\\u00e2ncias.\"\n",
      "}\n"
     ]
    },
    {
     "name": "stderr",
     "output_type": "stream",
     "text": [
      "127.0.0.1 - - [31/Oct/2023 20:01:56] \"GET / HTTP/1.1\" 404 -\n",
      "127.0.0.1 - - [31/Oct/2023 20:01:56] \"GET /favicon.ico HTTP/1.1\" 404 -\n"
     ]
    }
   ],
   "source": [
    "app = Flask(__name__)\n",
    "CORS(app)\n",
    "\n",
    "@app.route('/get_response', methods=['POST'])    \n",
    "def get_response():\n",
    "    data = request.get_json()\n",
    "    messages = data['messages']\n",
    "    \n",
    "    responses = []    \n",
    "    for message in messages:\n",
    "        if message['role'] == 'user':\n",
    "            response = get_completion_from_messages(messages)\n",
    "            responses.append({'role': 'assistant', 'content': response})\n",
    "            \n",
    "    return jsonify({'response': response})\n",
    "\n",
    "if __name__ == \"__main__\":    \n",
    "    app.run(port=5000)"
   ]
  }
 ],
 "metadata": {
  "kernelspec": {
   "display_name": "Python 3",
   "language": "python",
   "name": "python3"
  },
  "language_info": {
   "codemirror_mode": {
    "name": "ipython",
    "version": 3
   },
   "file_extension": ".py",
   "mimetype": "text/x-python",
   "name": "python",
   "nbconvert_exporter": "python",
   "pygments_lexer": "ipython3",
   "version": "3.10.11"
  }
 },
 "nbformat": 4,
 "nbformat_minor": 2
}
